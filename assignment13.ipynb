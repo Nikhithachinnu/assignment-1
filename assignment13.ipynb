{
  "nbformat": 4,
  "nbformat_minor": 0,
  "metadata": {
    "colab": {
      "name": "Welcome to Colaboratory",
      "provenance": [],
      "collapsed_sections": [],
      "include_colab_link": true
    },
    "kernelspec": {
      "display_name": "Python 3",
      "name": "python3"
    }
  },
  "cells": [
    {
      "cell_type": "markdown",
      "metadata": {
        "id": "view-in-github",
        "colab_type": "text"
      },
      "source": [
        "<a href=\"https://colab.research.google.com/github/Nikhithachinnu/assignment-1/blob/master/assignment13.ipynb\" target=\"_parent\"><img src=\"https://colab.research.google.com/assets/colab-badge.svg\" alt=\"Open In Colab\"/></a>"
      ]
    },
    {
      "cell_type": "markdown",
      "metadata": {
        "id": "mvqJ50LX72hV",
        "colab_type": "text"
      },
      "source": [
        "Assignment 13"
      ]
    },
    {
      "cell_type": "markdown",
      "metadata": {
        "id": "WUTYpeSW73-o",
        "colab_type": "text"
      },
      "source": [
        " What is a dictionary in Python? Explain with an example\n",
        " \n",
        "It is an unordered sequence data structure. Dictionaries are denoted by curly braces { }. It is a collection of various key:value pairs. Keys are immutable and unique. Values are mutable and their values can be duplicated. \n",
        "For example:"
      ]
    },
    {
      "cell_type": "code",
      "metadata": {
        "id": "sZqBoTQJ8DSX",
        "colab_type": "code",
        "colab": {
          "base_uri": "https://localhost:8080/",
          "height": 54
        },
        "outputId": "0d1491a3-87c5-4b9a-9fc0-d623f4a3315d"
      },
      "source": [
        " dict1 = {\"one\":1,\"two\":2,\"three\":3}\n",
        "print(\"Dictionary:\",dict1)"
      ],
      "execution_count": 1,
      "outputs": [
        {
          "output_type": "stream",
          "text": [
            "Dictionary: {'one': 1, 'two': 2, 'three': 3}\n"
          ],
          "name": "stdout"
        }
      ]
    },
    {
      "cell_type": "markdown",
      "metadata": {
        "id": "5NTMuE9y8UKT",
        "colab_type": "text"
      },
      "source": [
        " Program to sum all the items in a list."
      ]
    },
    {
      "cell_type": "code",
      "metadata": {
        "id": "DflJGb7O8VCk",
        "colab_type": "code",
        "colab": {
          "base_uri": "https://localhost:8080/",
          "height": 54
        },
        "outputId": "b854b51a-9299-4f1a-a8df-bca0c8c9aecf"
      },
      "source": [
        " def sum_list(mylist):\n",
        "  sum = 0\n",
        "  for item in mylist:\n",
        "    sum = sum + item\n",
        "  print(\"Sum of all the items in the given list is:\",sum)\n",
        "sum_list([1,6,4,8,4,6 ,2])"
      ],
      "execution_count": 3,
      "outputs": [
        {
          "output_type": "stream",
          "text": [
            "Sum of all the items in the given list is: 31\n"
          ],
          "name": "stdout"
        }
      ]
    },
    {
      "cell_type": "markdown",
      "metadata": {
        "id": "Pmp6xm6e8gaa",
        "colab_type": "text"
      },
      "source": [
        " Program to create a list of empty dictionaries."
      ]
    },
    {
      "cell_type": "code",
      "metadata": {
        "id": "sdBVT7LZ8kMW",
        "colab_type": "code",
        "colab": {
          "base_uri": "https://localhost:8080/",
          "height": 71
        },
        "outputId": "b7d8909b-31be-4f08-b2ec-645e0ed02f12"
      },
      "source": [
        " n = int(input(\"Enter number of empty dictionaries: \"))\n",
        "mydict = {}\n",
        "mylist = [mydict] * n\n",
        "print(\"List of\",n,\"empty dictionaries:\",mylist)"
      ],
      "execution_count": 4,
      "outputs": [
        {
          "output_type": "stream",
          "text": [
            "Enter number of empty dictionaries: 5\n",
            "List of 5 empty dictionaries: [{}, {}, {}, {}, {}]\n"
          ],
          "name": "stdout"
        }
      ]
    },
    {
      "cell_type": "markdown",
      "metadata": {
        "id": "kn-b9IsM9Koc",
        "colab_type": "text"
      },
      "source": [
        " Program to access dictionary keys element by index"
      ]
    },
    {
      "cell_type": "code",
      "metadata": {
        "id": "BsUCNCfL9N71",
        "colab_type": "code",
        "colab": {
          "base_uri": "https://localhost:8080/",
          "height": 157
        },
        "outputId": "a3770449-2697-479a-c650-42dc5ce70d1f"
      },
      "source": [
        " dict1 = {\"blue\":1, \"green\":2, \"yellow\":3, \"red\":4, \"black\":5, \"purple\":6}\n",
        "print(\"Given dictionary:\",dict1)\n",
        "mylist = list(dict1)\n",
        "index = 0\n",
        "for item in mylist:\n",
        "  print(\"Index \",index,\"has:\",mylist[index])\n",
        "  index = index + 1"
      ],
      "execution_count": 5,
      "outputs": [
        {
          "output_type": "stream",
          "text": [
            "Given dictionary: {'blue': 1, 'green': 2, 'yellow': 3, 'red': 4, 'black': 5, 'purple': 6}\n",
            "Index  0 has: blue\n",
            "Index  1 has: green\n",
            "Index  2 has: yellow\n",
            "Index  3 has: red\n",
            "Index  4 has: black\n",
            "Index  5 has: purple\n"
          ],
          "name": "stdout"
        }
      ]
    },
    {
      "cell_type": "markdown",
      "metadata": {
        "id": "FJYaFMYZ9TbT",
        "colab_type": "text"
      },
      "source": [
        " Program to iterate over dictionaries using for loop"
      ]
    },
    {
      "cell_type": "code",
      "metadata": {
        "id": "I6Az2AP59W3_",
        "colab_type": "code",
        "colab": {
          "base_uri": "https://localhost:8080/",
          "height": 414
        },
        "outputId": "68de7b92-5e43-4c0c-d858-8bea8a1d84f1"
      },
      "source": [
        " dict1 = {\"blue\":1, \"green\":2, \"yellow\":3, \"red\":4, \"black\":5, \"purple\":6}\n",
        "print(\"Given dictionary:\",dict1)\n",
        "print(\"Keys present in the given dictionary:\")\n",
        "for item in dict1:\n",
        "  print(item)\n",
        " \n",
        "print(\"Values present in the given dictionary:\")\n",
        "for item in dict1.values():\n",
        "  print(item)\n",
        " \n",
        "print(\"Key:Value pairs in the given dictionary:\")\n",
        "for (k,v) in dict1.items():\n",
        "  print(k,\":\",v)"
      ],
      "execution_count": 6,
      "outputs": [
        {
          "output_type": "stream",
          "text": [
            "Given dictionary: {'blue': 1, 'green': 2, 'yellow': 3, 'red': 4, 'black': 5, 'purple': 6}\n",
            "Keys present in the given dictionary:\n",
            "blue\n",
            "green\n",
            "yellow\n",
            "red\n",
            "black\n",
            "purple\n",
            "Values present in the given dictionary:\n",
            "1\n",
            "2\n",
            "3\n",
            "4\n",
            "5\n",
            "6\n",
            "Key:Value pairs in the given dictionary:\n",
            "blue : 1\n",
            "green : 2\n",
            "yellow : 3\n",
            "red : 4\n",
            "black : 5\n",
            "purple : 6\n"
          ],
          "name": "stdout"
        }
      ]
    },
    {
      "cell_type": "markdown",
      "metadata": {
        "id": "FWWwKOHm9fAQ",
        "colab_type": "text"
      },
      "source": [
        " Program to sum all the items in a given dictionary."
      ]
    },
    {
      "cell_type": "code",
      "metadata": {
        "id": "ozF7YV-Q9gCt",
        "colab_type": "code",
        "colab": {
          "base_uri": "https://localhost:8080/",
          "height": 88
        },
        "outputId": "b7356b1e-f8c6-444e-dc78-25cd314e3546"
      },
      "source": [
        " dict1 = {10:101, 20:201, 30:301, 40:401, 50:501}\n",
        "print(\"Given dictionary:\",dict1)\n",
        "sum=0\n",
        "for value in dict1.values():\n",
        "  sum = sum + value\n",
        "print(\"Sum of all the values in the given dictionary:\",sum)\n",
        " \n",
        "for key in dict1.keys():\n",
        "  sum = sum + key\n",
        "print(\"Sum of all keys in the given dictionary:\",sum)"
      ],
      "execution_count": 7,
      "outputs": [
        {
          "output_type": "stream",
          "text": [
            "Given dictionary: {10: 101, 20: 201, 30: 301, 40: 401, 50: 501}\n",
            "Sum of all the values in the given dictionary: 1505\n",
            "Sum of all keys in the given dictionary: 1655\n"
          ],
          "name": "stdout"
        }
      ]
    },
    {
      "cell_type": "markdown",
      "metadata": {
        "id": "TGb-TvKo9-Fo",
        "colab_type": "text"
      },
      "source": [
        " Program to cocncatenate the following dictionaries and create a new one."
      ]
    },
    {
      "cell_type": "markdown",
      "metadata": {
        "id": "P8powgIX-Bb_",
        "colab_type": "text"
      },
      "source": [
        "       dict1 = {1:10, 2:20}\n",
        "       dict2 = {3:30, 4:40}\n",
        "       dict3 = {5:50, 6:60}"
      ]
    },
    {
      "cell_type": "markdown",
      "metadata": {
        "id": "wXAunUsg-Kak",
        "colab_type": "text"
      },
      "source": [
        " Expected Result: {1:10, 2:20, 3:30, 4:40, 5:50, 6:60}"
      ]
    },
    {
      "cell_type": "code",
      "metadata": {
        "id": "Qd7DFv-D-Oz2",
        "colab_type": "code",
        "colab": {
          "base_uri": "https://localhost:8080/",
          "height": 54
        },
        "outputId": "be4ca344-06dd-4ef4-9442-ee35460a4471"
      },
      "source": [
        " dict1 = {1:10, 2:20}\n",
        "dict2 = {3:30, 4:40}\n",
        "dict3 = {5:50, 6:60}\n",
        "dict2.update(dict3)\n",
        "dict1.update(dict2)\n",
        "print(\"Required result:\",dict1)"
      ],
      "execution_count": 8,
      "outputs": [
        {
          "output_type": "stream",
          "text": [
            "Required result: {1: 10, 2: 20, 3: 30, 4: 40, 5: 50, 6: 60}\n"
          ],
          "name": "stdout"
        }
      ]
    }
  ]
}
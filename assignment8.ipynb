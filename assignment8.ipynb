{
  "nbformat": 4,
  "nbformat_minor": 0,
  "metadata": {
    "colab": {
      "name": "Welcome to Colaboratory",
      "provenance": [],
      "collapsed_sections": [],
      "include_colab_link": true
    },
    "kernelspec": {
      "display_name": "Python 3",
      "name": "python3"
    }
  },
  "cells": [
    {
      "cell_type": "markdown",
      "metadata": {
        "id": "view-in-github",
        "colab_type": "text"
      },
      "source": [
        "<a href=\"https://colab.research.google.com/github/Nikhithachinnu/assignment-1/blob/master/assignment8.ipynb\" target=\"_parent\"><img src=\"https://colab.research.google.com/assets/colab-badge.svg\" alt=\"Open In Colab\"/></a>"
      ]
    },
    {
      "cell_type": "markdown",
      "metadata": {
        "id": "rACMR1AJVEYg",
        "colab_type": "text"
      },
      "source": [
        "Assignment 8"
      ]
    },
    {
      "cell_type": "markdown",
      "metadata": {
        "id": "balp2hfOVFcX",
        "colab_type": "text"
      },
      "source": [
        "Question 1"
      ]
    },
    {
      "cell_type": "markdown",
      "metadata": {
        "id": "LePbhzGVVGWL",
        "colab_type": "text"
      },
      "source": [
        " Program to calculate the length of a string"
      ]
    },
    {
      "cell_type": "code",
      "metadata": {
        "id": "DTJIIy4MVJt9",
        "colab_type": "code",
        "colab": {
          "base_uri": "https://localhost:8080/",
          "height": 51
        },
        "outputId": "34c7cb9c-c041-4846-e15e-6a2295e28dcb"
      },
      "source": [
        " string=input(\"Enter a string: \")\n",
        "length=len(string)\n",
        "print(\"The length of\",string,\"is\",length)"
      ],
      "execution_count": 8,
      "outputs": [
        {
          "output_type": "stream",
          "text": [
            "Enter a string: Nikhitha\n",
            "The length of Nikhitha is 8\n"
          ],
          "name": "stdout"
        }
      ]
    },
    {
      "cell_type": "markdown",
      "metadata": {
        "id": "k8Xz2bbXVTmo",
        "colab_type": "text"
      },
      "source": [
        "Question 2"
      ]
    },
    {
      "cell_type": "markdown",
      "metadata": {
        "id": "PT0CXaEjVVWf",
        "colab_type": "text"
      },
      "source": [
        " Program to find the character frequency in a string."
      ]
    },
    {
      "cell_type": "code",
      "metadata": {
        "id": "hF9NWMwEVY4Y",
        "colab_type": "code",
        "colab": {
          "base_uri": "https://localhost:8080/",
          "height": 71
        },
        "outputId": "da651072-10f4-4ee0-bab0-2e33d1a02e74"
      },
      "source": [
        " string=input(\"Enter a string: \")\n",
        "frequency={}\n",
        "for i in string:\n",
        "    if i in frequency:\n",
        "        frequency[i]+=1\n",
        "    else:\n",
        "        frequency[i]=1\n",
        "print(\"Character frequency\",string,\"is:\",frequency)"
      ],
      "execution_count": 9,
      "outputs": [
        {
          "output_type": "stream",
          "text": [
            "Enter a string: Gitam university \n",
            "Character frequency Gitam university  is: {'G': 1, 'i': 3, 't': 2, 'a': 1, 'm': 1, ' ': 2, 'u': 1, 'n': 1, 'v': 1, 'e': 1, 'r': 1, 's': 1, 'y': 1}\n"
          ],
          "name": "stdout"
        }
      ]
    },
    {
      "cell_type": "markdown",
      "metadata": {
        "id": "UUaeRI8zVn-n",
        "colab_type": "text"
      },
      "source": [
        "Question 3"
      ]
    },
    {
      "cell_type": "markdown",
      "metadata": {
        "id": "RWQBAuJBVo-C",
        "colab_type": "text"
      },
      "source": [
        " Program to get a single string from two given strings, separated by a space and swap the first character of each string."
      ]
    },
    {
      "cell_type": "code",
      "metadata": {
        "id": "gP9C6V24Vsdq",
        "colab_type": "code",
        "colab": {
          "base_uri": "https://localhost:8080/",
          "height": 85
        },
        "outputId": "1dc6d165-8c1f-4495-b3c8-33c31d6296c1"
      },
      "source": [
        " str1= input(\"Enter the first string: \")\n",
        "str2= input(\"Enter the secnd string: \")\n",
        "str1_swap= str2[:1]+str1[1:]\n",
        "str2_swap= str1[:1]+str2[1:]\n",
        "#n=str1.pop(0)\n",
        "#m=str2.pop(0)\n",
        "#p=list(str1_swap)\n",
        "#q=list(str2_swap)\n",
        "#str1=m+p\n",
        "#str2=n+q\n",
        "print(str1_swap)\n",
        "print(str2_swap)"
      ],
      "execution_count": 10,
      "outputs": [
        {
          "output_type": "stream",
          "text": [
            "Enter the first string: Apple \n",
            "Enter the secnd string: Mango \n",
            "Mpple \n",
            "Aango \n"
          ],
          "name": "stdout"
        }
      ]
    },
    {
      "cell_type": "markdown",
      "metadata": {
        "id": "kgBj26CrWBhB",
        "colab_type": "text"
      },
      "source": [
        "Question 4"
      ]
    },
    {
      "cell_type": "markdown",
      "metadata": {
        "id": "Dulise7FWCla",
        "colab_type": "text"
      },
      "source": [
        " Take input from the user and displays that input back in upper and lower cases."
      ]
    },
    {
      "cell_type": "code",
      "metadata": {
        "id": "lSRHuz_kWGtM",
        "colab_type": "code",
        "colab": {
          "base_uri": "https://localhost:8080/",
          "height": 71
        },
        "outputId": "8394f776-9c87-4d34-bcf1-1a44a2002666"
      },
      "source": [
        " string= input(\"Enter a string: \")\n",
        "upper_case=string.upper()\n",
        "lower_case=string.lower()\n",
        "print(\"The string\",string,\"in upper case is\",upper_case,\"and in lower case is\",lower_case)"
      ],
      "execution_count": 11,
      "outputs": [
        {
          "output_type": "stream",
          "text": [
            "Enter a string: Chinnu\n",
            "The string Chinnu in upper case is CHINNU and in lower case is chinnu\n"
          ],
          "name": "stdout"
        }
      ]
    },
    {
      "cell_type": "markdown",
      "metadata": {
        "id": "I4hZAX0ZWOUN",
        "colab_type": "text"
      },
      "source": [
        "Question 5"
      ]
    },
    {
      "cell_type": "markdown",
      "metadata": {
        "id": "kVlPOTeiWPV_",
        "colab_type": "text"
      },
      "source": [
        " Program to remove a newline."
      ]
    },
    {
      "cell_type": "code",
      "metadata": {
        "id": "4OqWfXw9WXBO",
        "colab_type": "code",
        "colab": {
          "base_uri": "https://localhost:8080/",
          "height": 34
        },
        "outputId": "c6933879-c042-4f93-ccb9-c2cd2fb994c6"
      },
      "source": [
        " string= \"nikhi\\n\"\n",
        "string.rstrip('\\n')"
      ],
      "execution_count": 12,
      "outputs": [
        {
          "output_type": "execute_result",
          "data": {
            "application/vnd.google.colaboratory.intrinsic": {
              "type": "string"
            },
            "text/plain": [
              "'nikhi'"
            ]
          },
          "metadata": {
            "tags": []
          },
          "execution_count": 12
        }
      ]
    },
    {
      "cell_type": "markdown",
      "metadata": {
        "id": "VHOvjrwXWd66",
        "colab_type": "text"
      },
      "source": [
        "Question 6"
      ]
    },
    {
      "cell_type": "markdown",
      "metadata": {
        "id": "XFP8uasKWe4j",
        "colab_type": "text"
      },
      "source": [
        " Program to count occurrences of a substring in a string."
      ]
    },
    {
      "cell_type": "code",
      "metadata": {
        "id": "f8ELLM9wWiSG",
        "colab_type": "code",
        "colab": {
          "base_uri": "https://localhost:8080/",
          "height": 88
        },
        "outputId": "5142fe2e-e84f-4ba4-b693-2f4fec5a3731"
      },
      "source": [
        " string= input(\"Enter a string: \")\n",
        "substr= input(\"Enter a substring present in the string: \")\n",
        "string.count(substr)"
      ],
      "execution_count": 14,
      "outputs": [
        {
          "output_type": "stream",
          "text": [
            "Enter a string: Jungle leader\n",
            "Enter a substring present in the string: le\n"
          ],
          "name": "stdout"
        },
        {
          "output_type": "execute_result",
          "data": {
            "text/plain": [
              "2"
            ]
          },
          "metadata": {
            "tags": []
          },
          "execution_count": 14
        }
      ]
    },
    {
      "cell_type": "markdown",
      "metadata": {
        "id": "aIjHVdDxW8vo",
        "colab_type": "text"
      },
      "source": [
        "Question 7"
      ]
    },
    {
      "cell_type": "markdown",
      "metadata": {
        "id": "aG-QRNAgXFHy",
        "colab_type": "text"
      },
      "source": [
        " Program to convert a string in a list."
      ]
    },
    {
      "cell_type": "code",
      "metadata": {
        "id": "x5huiEJXXI4R",
        "colab_type": "code",
        "colab": {
          "base_uri": "https://localhost:8080/",
          "height": 71
        },
        "outputId": "6433f165-d4eb-47c3-8ff3-b3ebefa93482"
      },
      "source": [
        " string=input(\"Enter a string: \")\n",
        "mylist=list(string)\n",
        "print(\"Converted list is\",mylist)"
      ],
      "execution_count": 15,
      "outputs": [
        {
          "output_type": "stream",
          "text": [
            "Enter a string: Apple\n",
            "Converted list is ['A', 'p', 'p', 'l', 'e']\n"
          ],
          "name": "stdout"
        }
      ]
    },
    {
      "cell_type": "markdown",
      "metadata": {
        "id": "3i1hzw3SXRnX",
        "colab_type": "text"
      },
      "source": [
        "Question 8"
      ]
    },
    {
      "cell_type": "markdown",
      "metadata": {
        "id": "rCM22R4VXXpr",
        "colab_type": "text"
      },
      "source": [
        " Program to delete a character"
      ]
    },
    {
      "cell_type": "code",
      "metadata": {
        "id": "6bWMUFmXXazX",
        "colab_type": "code",
        "colab": {
          "base_uri": "https://localhost:8080/",
          "height": 85
        },
        "outputId": "70a4bd62-36cf-4f91-dd4c-510912494589"
      },
      "source": [
        " string=input(\"Enter a string: \")\n",
        "char=input(\"Enter the character to delete: \")\n",
        "print(\"The resultant string is\",string.replace(char,\"\"))\n",
        "print(\"The deleted char is\",char,\".\")"
      ],
      "execution_count": 18,
      "outputs": [
        {
          "output_type": "stream",
          "text": [
            "Enter a string: Jungle book\n",
            "Enter the character to delete: Le\n",
            "The resultant string is Jungle book\n",
            "The deleted char is Le .\n"
          ],
          "name": "stdout"
        }
      ]
    },
    {
      "cell_type": "markdown",
      "metadata": {
        "id": "zk4njs4_XqC7",
        "colab_type": "text"
      },
      "source": [
        "Question 9"
      ]
    },
    {
      "cell_type": "markdown",
      "metadata": {
        "id": "hjesAn4WXx3d",
        "colab_type": "text"
      },
      "source": [
        " Program to print every character of a string entered by user in a new line using loop."
      ]
    },
    {
      "cell_type": "code",
      "metadata": {
        "id": "n2umPu6zX1Ff",
        "colab_type": "code",
        "colab": {
          "base_uri": "https://localhost:8080/",
          "height": 137
        },
        "outputId": "9d853747-6e0f-45c9-bb80-c47626ae788a"
      },
      "source": [
        " string=input(\"Enter a string: \")\n",
        "print(\"Characters in the string\",string,\"are:\")\n",
        "for i in string:\n",
        "    print(i)"
      ],
      "execution_count": 19,
      "outputs": [
        {
          "output_type": "stream",
          "text": [
            "Enter a string: Nikhi\n",
            "Characters in the string Nikhi are:\n",
            "N\n",
            "i\n",
            "k\n",
            "h\n",
            "i\n"
          ],
          "name": "stdout"
        }
      ]
    },
    {
      "cell_type": "markdown",
      "metadata": {
        "id": "p2QdBtGMX7fk",
        "colab_type": "text"
      },
      "source": [
        "Question 10"
      ]
    },
    {
      "cell_type": "markdown",
      "metadata": {
        "id": "L3vwMxqNX9B2",
        "colab_type": "text"
      },
      "source": [
        " Program to find the length of the string \"refrigerator\" without using len function"
      ]
    },
    {
      "cell_type": "code",
      "metadata": {
        "id": "uSgkkDt_YBAT",
        "colab_type": "code",
        "colab": {
          "base_uri": "https://localhost:8080/",
          "height": 34
        },
        "outputId": "b4cbbb0f-c631-466b-b6fe-e94e5668c486"
      },
      "source": [
        " string= \"summer\"\n",
        "length=0\n",
        "for i in string:\n",
        "    length+=1\n",
        "print(\"The length of the string\",string,\"is:\",length)"
      ],
      "execution_count": 21,
      "outputs": [
        {
          "output_type": "stream",
          "text": [
            "The length of the string summer is: 6\n"
          ],
          "name": "stdout"
        }
      ]
    }
  ]
}
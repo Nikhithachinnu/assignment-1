{
  "nbformat": 4,
  "nbformat_minor": 0,
  "metadata": {
    "colab": {
      "name": "Welcome to Colaboratory",
      "provenance": [],
      "collapsed_sections": [],
      "include_colab_link": true
    },
    "kernelspec": {
      "display_name": "Python 3",
      "name": "python3"
    }
  },
  "cells": [
    {
      "cell_type": "markdown",
      "metadata": {
        "id": "view-in-github",
        "colab_type": "text"
      },
      "source": [
        "<a href=\"https://colab.research.google.com/github/Nikhithachinnu/assignment-1/blob/master/assignment10.ipynb\" target=\"_parent\"><img src=\"https://colab.research.google.com/assets/colab-badge.svg\" alt=\"Open In Colab\"/></a>"
      ]
    },
    {
      "cell_type": "markdown",
      "metadata": {
        "id": "CkShWW4QykN8",
        "colab_type": "text"
      },
      "source": [
        "Assignment 10"
      ]
    },
    {
      "cell_type": "markdown",
      "metadata": {
        "id": "VigMioGFysmm",
        "colab_type": "text"
      },
      "source": [
        "Question 1"
      ]
    },
    {
      "cell_type": "markdown",
      "metadata": {
        "id": "v9HO4J4Eytig",
        "colab_type": "text"
      },
      "source": [
        " Program to get the largest and smallest number from a list."
      ]
    },
    {
      "cell_type": "code",
      "metadata": {
        "id": "MdOs7OCGywtB",
        "colab_type": "code",
        "colab": {
          "base_uri": "https://localhost:8080/",
          "height": 88
        },
        "outputId": "c22c2db8-633a-47f1-b4b4-026be7f21169"
      },
      "source": [
        " mylist = [7,35,15,38,55,90]\n",
        "print(\"The given list is:\",mylist)\n",
        "print(\"Largest number in the list is\",max(mylist))\n",
        "print(\"Smallest number in the list:\",min(mylist))"
      ],
      "execution_count": 1,
      "outputs": [
        {
          "output_type": "stream",
          "text": [
            "The given list is: [7, 35, 15, 38, 55, 90]\n",
            "Largest number in the list is 90\n",
            "Smallest number in the list: 7\n"
          ],
          "name": "stdout"
        }
      ]
    },
    {
      "cell_type": "markdown",
      "metadata": {
        "id": "cVn8T5izzAEh",
        "colab_type": "text"
      },
      "source": [
        "Question 2"
      ]
    },
    {
      "cell_type": "markdown",
      "metadata": {
        "id": "O7rxPKQ3zBBd",
        "colab_type": "text"
      },
      "source": [
        " Program to remove duplicate elements from a list."
      ]
    },
    {
      "cell_type": "code",
      "metadata": {
        "id": "XEI3U6rkzF61",
        "colab_type": "code",
        "colab": {
          "base_uri": "https://localhost:8080/",
          "height": 34
        },
        "outputId": "c6ad8e4b-2b21-41ff-e771-bb7234d17d1d"
      },
      "source": [
        " mylist =[1,3,3,3,6,7,6,9,9,2]\n",
        "newlist = []\n",
        " \n",
        "for item in mylist:\n",
        "    if item not in newlist:\n",
        "        newlist.append(item)\n",
        "print(\"New list:\",newlist)"
      ],
      "execution_count": 2,
      "outputs": [
        {
          "output_type": "stream",
          "text": [
            "New list: [1, 3, 6, 7, 9, 2]\n"
          ],
          "name": "stdout"
        }
      ]
    },
    {
      "cell_type": "markdown",
      "metadata": {
        "id": "OwFsNNYmzYk1",
        "colab_type": "text"
      },
      "source": [
        "Question 3"
      ]
    },
    {
      "cell_type": "markdown",
      "metadata": {
        "id": "XDkjmWeozZfo",
        "colab_type": "text"
      },
      "source": [
        " Program to check if the list is empty or not."
      ]
    },
    {
      "cell_type": "code",
      "metadata": {
        "id": "eKp7VRHmzdJD",
        "colab_type": "code",
        "colab": {
          "base_uri": "https://localhost:8080/",
          "height": 51
        },
        "outputId": "7415198f-c82e-409a-ee87-36dd00e1f9c5"
      },
      "source": [
        " mylist = [1,2,3,4,5]\n",
        "list1 = []\n",
        "if mylist == []:\n",
        "    print(\"True\")\n",
        "else:\n",
        "    print(\"False\")\n",
        "    \n",
        "if list1 != []:\n",
        "    print(\"False\")\n",
        "else:\n",
        "    print(\"True\")"
      ],
      "execution_count": 3,
      "outputs": [
        {
          "output_type": "stream",
          "text": [
            "False\n",
            "True\n"
          ],
          "name": "stdout"
        }
      ]
    },
    {
      "cell_type": "markdown",
      "metadata": {
        "id": "mA5KUTdCzt6e",
        "colab_type": "text"
      },
      "source": [
        "Question 4"
      ]
    },
    {
      "cell_type": "markdown",
      "metadata": {
        "id": "y6q8NgfJzuxx",
        "colab_type": "text"
      },
      "source": [
        " Program to clone or copy a list."
      ]
    },
    {
      "cell_type": "code",
      "metadata": {
        "id": "O_B0jtu5zzW4",
        "colab_type": "code",
        "colab": {
          "base_uri": "https://localhost:8080/",
          "height": 51
        },
        "outputId": "9da1845a-c7f2-4cf1-d96c-44e3cdcdb8e4"
      },
      "source": [
        " mylist = [1,3,5,7,9]\n",
        "print(\"Original list:\",mylist)\n",
        "newlist = mylist.copy()\n",
        "print(\"Copied list:\",newlist)"
      ],
      "execution_count": 4,
      "outputs": [
        {
          "output_type": "stream",
          "text": [
            "Original list: [1, 3, 5, 7, 9]\n",
            "Copied list: [1, 3, 5, 7, 9]\n"
          ],
          "name": "stdout"
        }
      ]
    },
    {
      "cell_type": "markdown",
      "metadata": {
        "id": "mh5Mwk39z8AQ",
        "colab_type": "text"
      },
      "source": [
        "Question 5"
      ]
    },
    {
      "cell_type": "markdown",
      "metadata": {
        "id": "Y0Bf3L8Hz9Ei",
        "colab_type": "text"
      },
      "source": [
        " Program to print a specified list after removing the 0th, 4th and 5th elements."
      ]
    },
    {
      "cell_type": "code",
      "metadata": {
        "id": "SC3yAj5T0BI-",
        "colab_type": "code",
        "colab": {
          "base_uri": "https://localhost:8080/",
          "height": 34
        },
        "outputId": "2587e9db-324b-45ed-cec4-bb7e4e1cfd65"
      },
      "source": [
        " mylist = [\"Red\",\"Green\",\"White\",\"Black\",\"Pink\",\"Yellow\"]\n",
        "mylist.pop(0)\n",
        "mylist.remove(\"Pink\")\n",
        "mylist.remove(\"Yellow\")\n",
        "print(\"New list:\",mylist)"
      ],
      "execution_count": 5,
      "outputs": [
        {
          "output_type": "stream",
          "text": [
            "New list: ['Green', 'White', 'Black']\n"
          ],
          "name": "stdout"
        }
      ]
    },
    {
      "cell_type": "markdown",
      "metadata": {
        "id": "qJ7LX6g50UHW",
        "colab_type": "text"
      },
      "source": [
        "Question 6"
      ]
    },
    {
      "cell_type": "markdown",
      "metadata": {
        "id": "h7KW0qrF0VWy",
        "colab_type": "text"
      },
      "source": [
        " Program to print the numbers of a specified list after removing even numbers from it."
      ]
    },
    {
      "cell_type": "code",
      "metadata": {
        "id": "A-DgL_Tv0xEk",
        "colab_type": "code",
        "colab": {
          "base_uri": "https://localhost:8080/",
          "height": 34
        },
        "outputId": "30654a42-c3d2-4971-c4c7-ddd8628ce8c3"
      },
      "source": [
        " mylist = [1,22,63,35,55,98]\n",
        "for item in mylist:\n",
        "    if item%2==0:\n",
        "        mylist.remove(item)\n",
        "print(mylist)"
      ],
      "execution_count": 7,
      "outputs": [
        {
          "output_type": "stream",
          "text": [
            "[1, 63, 35, 55]\n"
          ],
          "name": "stdout"
        }
      ]
    },
    {
      "cell_type": "markdown",
      "metadata": {
        "id": "gkItmwxP1_nN",
        "colab_type": "text"
      },
      "source": [
        "Question 7"
      ]
    },
    {
      "cell_type": "markdown",
      "metadata": {
        "id": "Oef5nDbK2B_v",
        "colab_type": "text"
      },
      "source": [
        " Program to shuffle and print a list"
      ]
    },
    {
      "cell_type": "code",
      "metadata": {
        "id": "cDAQvVy42MTO",
        "colab_type": "code",
        "colab": {
          "base_uri": "https://localhost:8080/",
          "height": 34
        },
        "outputId": "43e7e8b6-f5d2-4c6a-da64-478d957e4d59"
      },
      "source": [
        " from random import shuffle\n",
        " \n",
        "mylist = [10,20,30,40,50,60]\n",
        "shuffle(mylist)\n",
        "print(\"New list:\",mylist)"
      ],
      "execution_count": 8,
      "outputs": [
        {
          "output_type": "stream",
          "text": [
            "New list: [40, 20, 30, 60, 10, 50]\n"
          ],
          "name": "stdout"
        }
      ]
    },
    {
      "cell_type": "markdown",
      "metadata": {
        "id": "gDhO5lA33KSW",
        "colab_type": "text"
      },
      "source": [
        "Question 8"
      ]
    },
    {
      "cell_type": "markdown",
      "metadata": {
        "id": "yNYTaKj33L_D",
        "colab_type": "text"
      },
      "source": [
        " Program to find the difference between two lists."
      ]
    },
    {
      "cell_type": "code",
      "metadata": {
        "id": "4CX8n2sJ3WvQ",
        "colab_type": "code",
        "colab": {
          "base_uri": "https://localhost:8080/",
          "height": 54
        },
        "outputId": "40f279d7-6656-4b11-c14f-f27957c0b62a"
      },
      "source": [
        " list1 = [1,2,3,4,5,6]\n",
        "list2 = [4,2,6]\n",
        "list3 = []\n",
        "for item in list1:\n",
        "    if item not in list2:\n",
        "        list3.append(item)\n",
        "print(list3,\"is the difference between given two lists.\")"
      ],
      "execution_count": 9,
      "outputs": [
        {
          "output_type": "stream",
          "text": [
            "[1, 3, 5] is the difference between given two lists.\n"
          ],
          "name": "stdout"
        }
      ]
    }
  ]
}
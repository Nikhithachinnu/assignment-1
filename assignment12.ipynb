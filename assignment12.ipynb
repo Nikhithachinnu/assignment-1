{
  "nbformat": 4,
  "nbformat_minor": 0,
  "metadata": {
    "colab": {
      "name": "Welcome to Colaboratory",
      "provenance": [],
      "collapsed_sections": [],
      "include_colab_link": true
    },
    "kernelspec": {
      "display_name": "Python 3",
      "name": "python3"
    }
  },
  "cells": [
    {
      "cell_type": "markdown",
      "metadata": {
        "id": "view-in-github",
        "colab_type": "text"
      },
      "source": [
        "<a href=\"https://colab.research.google.com/github/Nikhithachinnu/assignment-1/blob/master/assignment12.ipynb\" target=\"_parent\"><img src=\"https://colab.research.google.com/assets/colab-badge.svg\" alt=\"Open In Colab\"/></a>"
      ]
    },
    {
      "cell_type": "markdown",
      "metadata": {
        "id": "zXaTjrrspmk1",
        "colab_type": "text"
      },
      "source": [
        "Assignment 12"
      ]
    },
    {
      "cell_type": "markdown",
      "metadata": {
        "id": "br74RkpyppCi",
        "colab_type": "text"
      },
      "source": [
        " Program to create a tuple."
      ]
    },
    {
      "cell_type": "code",
      "metadata": {
        "id": "zQ6Dhp-NpsiG",
        "colab_type": "code",
        "colab": {
          "base_uri": "https://localhost:8080/",
          "height": 34
        },
        "outputId": "e2e915b4-8d56-4e6d-d11f-14e9cd7f499c"
      },
      "source": [
        " t1 = (1,2,3,4,5)\n",
        "print(t1, type(t1))"
      ],
      "execution_count": 11,
      "outputs": [
        {
          "output_type": "stream",
          "text": [
            "(1, 2, 3, 4, 5) <class 'tuple'>\n"
          ],
          "name": "stdout"
        }
      ]
    },
    {
      "cell_type": "markdown",
      "metadata": {
        "id": "htowjf6Ep6PU",
        "colab_type": "text"
      },
      "source": [
        " Program to create a tuple with different data types."
      ]
    },
    {
      "cell_type": "code",
      "metadata": {
        "id": "1IbgfGUMp_XJ",
        "colab_type": "code",
        "colab": {
          "base_uri": "https://localhost:8080/",
          "height": 54
        },
        "outputId": "607588a0-92f1-4b4c-848a-01c93bfd02e3"
      },
      "source": [
        " t1 = (1,2.5,\"car\",[\"Hey\",1,6])\n",
        "print(t1, type(t1))"
      ],
      "execution_count": 13,
      "outputs": [
        {
          "output_type": "stream",
          "text": [
            "(1, 2.5, 'car', ['Hey', 1, 6]) <class 'tuple'>\n"
          ],
          "name": "stdout"
        }
      ]
    },
    {
      "cell_type": "markdown",
      "metadata": {
        "id": "Zf-OphiJqal8",
        "colab_type": "text"
      },
      "source": [
        " Program to convert a tuple into a string."
      ]
    },
    {
      "cell_type": "code",
      "metadata": {
        "id": "ZdbFSEvPqhT1",
        "colab_type": "code",
        "colab": {
          "base_uri": "https://localhost:8080/",
          "height": 34
        },
        "outputId": "9fee9554-3e2f-4b27-99cc-5b2c49802417"
      },
      "source": [
        " t1 = (\"N\",\"i\",\"m\",\"b\",\"u\",\"s\")\n",
        "str = \"\".join(t1)\n",
        "print(\"Tuple converted string:\",str)"
      ],
      "execution_count": 14,
      "outputs": [
        {
          "output_type": "stream",
          "text": [
            "Tuple converted string: Nimbus\n"
          ],
          "name": "stdout"
        }
      ]
    },
    {
      "cell_type": "markdown",
      "metadata": {
        "id": "Nm2jvCUKqufZ",
        "colab_type": "text"
      },
      "source": [
        " Program to slice a tuple"
      ]
    },
    {
      "cell_type": "code",
      "metadata": {
        "id": "H-qL_5LSqxzZ",
        "colab_type": "code",
        "colab": {
          "base_uri": "https://localhost:8080/",
          "height": 34
        },
        "outputId": "0fc0cea5-e9ad-4555-eea5-6cace4f63568"
      },
      "source": [
        " t1 = (1,2,3,4,5,6,7,8,9,10)\n",
        "slice_tup = (t1[2:6])\n",
        "print(\"Sliced tuple:\",slice_tup)"
      ],
      "execution_count": 15,
      "outputs": [
        {
          "output_type": "stream",
          "text": [
            "Sliced tuple: (3, 4, 5, 6)\n"
          ],
          "name": "stdout"
        }
      ]
    },
    {
      "cell_type": "markdown",
      "metadata": {
        "id": "mUNOTViYrBB5",
        "colab_type": "text"
      },
      "source": [
        " Program to find the length of a tuple"
      ]
    },
    {
      "cell_type": "code",
      "metadata": {
        "id": "yvxisatUrFlJ",
        "colab_type": "code",
        "colab": {
          "base_uri": "https://localhost:8080/",
          "height": 34
        },
        "outputId": "e4fb4842-98de-4862-ddfe-d9953d22919b"
      },
      "source": [
        " t1 = (1,2,3,4,5,6,7,8,9,10)\n",
        "count = 0\n",
        "for item in t1:\n",
        "  count+=1\n",
        "print(\"Length of the tuple:\",count)"
      ],
      "execution_count": 16,
      "outputs": [
        {
          "output_type": "stream",
          "text": [
            "Length of the tuple: 10\n"
          ],
          "name": "stdout"
        }
      ]
    },
    {
      "cell_type": "markdown",
      "metadata": {
        "id": "9cIyilz4rV7z",
        "colab_type": "text"
      },
      "source": [
        " Program to convert a tuple into a dictionary."
      ]
    },
    {
      "cell_type": "code",
      "metadata": {
        "id": "AbfOw7Gsrbbo",
        "colab_type": "code",
        "colab": {
          "base_uri": "https://localhost:8080/",
          "height": 54
        },
        "outputId": "d00e3a2b-ed92-456d-aa62-15a09d6085d8"
      },
      "source": [
        " t1 = ((\"one\",1),(\"two\",2),(\"three\",3),(\"four\",4),(\"five\",5))\n",
        "converted_dict = dict(t1)\n",
        "print(\"Converted Dictionary:\",converted_dict)"
      ],
      "execution_count": 17,
      "outputs": [
        {
          "output_type": "stream",
          "text": [
            "Converted Dictionary: {'one': 1, 'two': 2, 'three': 3, 'four': 4, 'five': 5}\n"
          ],
          "name": "stdout"
        }
      ]
    },
    {
      "cell_type": "markdown",
      "metadata": {
        "id": "x2x3SA6irgfB",
        "colab_type": "text"
      },
      "source": [
        " Program to reverse a tuple."
      ]
    },
    {
      "cell_type": "code",
      "metadata": {
        "id": "z-1os73drkiu",
        "colab_type": "code",
        "colab": {
          "base_uri": "https://localhost:8080/",
          "height": 54
        },
        "outputId": "56c6c010-023e-4754-fc2e-7b251e7eafab"
      },
      "source": [
        " t1 = (1,2,3,4,5,6,7,8,9,10)\n",
        "print(\"Reversed Tuple:\",t1[::-1])"
      ],
      "execution_count": 18,
      "outputs": [
        {
          "output_type": "stream",
          "text": [
            "Reversed Tuple: (10, 9, 8, 7, 6, 5, 4, 3, 2, 1)\n"
          ],
          "name": "stdout"
        }
      ]
    },
    {
      "cell_type": "markdown",
      "metadata": {
        "id": "DglPjo7Droxc",
        "colab_type": "text"
      },
      "source": [
        " Program to convert a list of tuples into a dictionary."
      ]
    },
    {
      "cell_type": "code",
      "metadata": {
        "id": "h4dWaW8Mrs3q",
        "colab_type": "code",
        "colab": {
          "base_uri": "https://localhost:8080/",
          "height": 54
        },
        "outputId": "7ef9e23d-9001-459e-ac19-1b8e9031b2c4"
      },
      "source": [
        " mylist = [(\"one\",1),(\"two\",2),(\"three\",3),(\"four\",4)]\n",
        "dict_converted = dict(mylist)\n",
        "print(\"Dictionary converted list:\",dict_converted)"
      ],
      "execution_count": 19,
      "outputs": [
        {
          "output_type": "stream",
          "text": [
            "Dictionary converted list: {'one': 1, 'two': 2, 'three': 3, 'four': 4}\n"
          ],
          "name": "stdout"
        }
      ]
    },
    {
      "cell_type": "markdown",
      "metadata": {
        "id": "iKGbrdtqr2Ba",
        "colab_type": "text"
      },
      "source": [
        " Program to convert a list of tuples into a tuple."
      ]
    },
    {
      "cell_type": "code",
      "metadata": {
        "id": "EsxgVau4r5bi",
        "colab_type": "code",
        "colab": {
          "base_uri": "https://localhost:8080/",
          "height": 54
        },
        "outputId": "11381e09-5101-4b3e-b693-c0e11b410fc3"
      },
      "source": [
        " mylist = [\"Hello\",\"Hey\",\"Hi\",\"Hola\",\"Bonjour\"]\n",
        "print(\"Tuple converted list:\",tuple(mylist))"
      ],
      "execution_count": 20,
      "outputs": [
        {
          "output_type": "stream",
          "text": [
            "Tuple converted list: ('Hello', 'Hey', 'Hi', 'Hola', 'Bonjour')\n"
          ],
          "name": "stdout"
        }
      ]
    }
  ]
}
{
  "nbformat": 4,
  "nbformat_minor": 0,
  "metadata": {
    "colab": {
      "name": "Welcome to Colaboratory",
      "provenance": [],
      "collapsed_sections": [],
      "include_colab_link": true
    },
    "kernelspec": {
      "display_name": "Python 3",
      "name": "python3"
    }
  },
  "cells": [
    {
      "cell_type": "markdown",
      "metadata": {
        "id": "view-in-github",
        "colab_type": "text"
      },
      "source": [
        "<a href=\"https://colab.research.google.com/github/Nikhithachinnu/assignment-1/blob/master/assignment%209.ipynb\" target=\"_parent\"><img src=\"https://colab.research.google.com/assets/colab-badge.svg\" alt=\"Open In Colab\"/></a>"
      ]
    },
    {
      "cell_type": "markdown",
      "metadata": {
        "id": "LYc27JAbrgc4",
        "colab_type": "text"
      },
      "source": [
        "Assignment 9"
      ]
    },
    {
      "cell_type": "markdown",
      "metadata": {
        "id": "bpLFhrbPriEv",
        "colab_type": "text"
      },
      "source": [
        "Question 1"
      ]
    },
    {
      "cell_type": "markdown",
      "metadata": {
        "id": "Vvaa4brsrjFj",
        "colab_type": "text"
      },
      "source": [
        " Program that prints integers from 1 to 100. But for multiples of 3, print 'Fizz' instead of the number and for the multiples of 5, print 'Buzz'. For numbers which are multiples of both 3 and 5, print 'FizzBuzz"
      ]
    },
    {
      "cell_type": "code",
      "metadata": {
        "id": "hzfIpnfCrn0R",
        "colab_type": "code",
        "colab": {
          "base_uri": "https://localhost:8080/",
          "height": 1000
        },
        "outputId": "22e17eec-d5a4-4904-9e50-595e5ad67b3d"
      },
      "source": [
        " for i in range(1,101):\n",
        "    if i%3==0 and i%5==0:\n",
        "        i=\"FizzBuzz\"\n",
        "        print(i)\n",
        "    elif i%5==0:\n",
        "        i=\"Buzz\"\n",
        "        print(i)\n",
        "    elif i%3==0:\n",
        "        i=\"Fizz\"\n",
        "        print(i)\n",
        "    else:\n",
        "        print(i)"
      ],
      "execution_count": 6,
      "outputs": [
        {
          "output_type": "stream",
          "text": [
            "1\n",
            "2\n",
            "Fizz\n",
            "4\n",
            "Buzz\n",
            "Fizz\n",
            "7\n",
            "8\n",
            "Fizz\n",
            "Buzz\n",
            "11\n",
            "Fizz\n",
            "13\n",
            "14\n",
            "FizzBuzz\n",
            "16\n",
            "17\n",
            "Fizz\n",
            "19\n",
            "Buzz\n",
            "Fizz\n",
            "22\n",
            "23\n",
            "Fizz\n",
            "Buzz\n",
            "26\n",
            "Fizz\n",
            "28\n",
            "29\n",
            "FizzBuzz\n",
            "31\n",
            "32\n",
            "Fizz\n",
            "34\n",
            "Buzz\n",
            "Fizz\n",
            "37\n",
            "38\n",
            "Fizz\n",
            "Buzz\n",
            "41\n",
            "Fizz\n",
            "43\n",
            "44\n",
            "FizzBuzz\n",
            "46\n",
            "47\n",
            "Fizz\n",
            "49\n",
            "Buzz\n",
            "Fizz\n",
            "52\n",
            "53\n",
            "Fizz\n",
            "Buzz\n",
            "56\n",
            "Fizz\n",
            "58\n",
            "59\n",
            "FizzBuzz\n",
            "61\n",
            "62\n",
            "Fizz\n",
            "64\n",
            "Buzz\n",
            "Fizz\n",
            "67\n",
            "68\n",
            "Fizz\n",
            "Buzz\n",
            "71\n",
            "Fizz\n",
            "73\n",
            "74\n",
            "FizzBuzz\n",
            "76\n",
            "77\n",
            "Fizz\n",
            "79\n",
            "Buzz\n",
            "Fizz\n",
            "82\n",
            "83\n",
            "Fizz\n",
            "Buzz\n",
            "86\n",
            "Fizz\n",
            "88\n",
            "89\n",
            "FizzBuzz\n",
            "91\n",
            "92\n",
            "Fizz\n",
            "94\n",
            "Buzz\n",
            "Fizz\n",
            "97\n",
            "98\n",
            "Fizz\n",
            "Buzz\n"
          ],
          "name": "stdout"
        }
      ]
    },
    {
      "cell_type": "markdown",
      "metadata": {
        "id": "5VUxwGR9rxBV",
        "colab_type": "text"
      },
      "source": [
        "Question 2"
      ]
    },
    {
      "cell_type": "markdown",
      "metadata": {
        "id": "MHh2C8GCryKC",
        "colab_type": "text"
      },
      "source": [
        " Program to remove consecutive duplicates from a list"
      ]
    },
    {
      "cell_type": "code",
      "metadata": {
        "id": "8NuLgVOlr2TC",
        "colab_type": "code",
        "colab": {
          "base_uri": "https://localhost:8080/",
          "height": 68
        },
        "outputId": "299131c0-7e03-4091-f251-c8d7b8f5273a"
      },
      "source": [
        "mylist=[2,2,3,3,3,4,4,5,5]\n",
        "prev=None\n",
        "newlist=[]\n",
        " \n",
        "for item in mylist:\n",
        "    if item!=prev:\n",
        "        newlist.append(item)\n",
        "        prev=item\n",
        "print(\"The new list:\\n\")\n",
        "print(newlist)"
      ],
      "execution_count": 9,
      "outputs": [
        {
          "output_type": "stream",
          "text": [
            "The new list:\n",
            "\n",
            "[2, 3, 4, 5]\n"
          ],
          "name": "stdout"
        }
      ]
    },
    {
      "cell_type": "markdown",
      "metadata": {
        "id": "IBSgwWDDsSxY",
        "colab_type": "text"
      },
      "source": [
        "Question 3"
      ]
    },
    {
      "cell_type": "markdown",
      "metadata": {
        "id": "Mqr12gRSsT_D",
        "colab_type": "text"
      },
      "source": [
        " Find unique elements in a list."
      ]
    },
    {
      "cell_type": "code",
      "metadata": {
        "id": "VPwjGUA_sXI0",
        "colab_type": "code",
        "colab": {
          "base_uri": "https://localhost:8080/",
          "height": 34
        },
        "outputId": "dfb4c0ee-c7b4-4a19-fcc0-17069919f658"
      },
      "source": [
        " mylist=[1,5,5,6,6,7,7,4]\n",
        "newlist=set(mylist)\n",
        "print(list(newlist))"
      ],
      "execution_count": 10,
      "outputs": [
        {
          "output_type": "stream",
          "text": [
            "[1, 4, 5, 6, 7]\n"
          ],
          "name": "stdout"
        }
      ]
    },
    {
      "cell_type": "markdown",
      "metadata": {
        "id": "2ca-t07ZsgJQ",
        "colab_type": "text"
      },
      "source": [
        "Question 4"
      ]
    },
    {
      "cell_type": "markdown",
      "metadata": {
        "id": "qG6tYmLEshTX",
        "colab_type": "text"
      },
      "source": [
        " Function that checks if a number is in the given range or not (inclusive of high and low)."
      ]
    },
    {
      "cell_type": "code",
      "metadata": {
        "id": "IAgbh8iNslTK",
        "colab_type": "code",
        "colab": {
          "base_uri": "https://localhost:8080/",
          "height": 34
        },
        "outputId": "74036234-66f4-4a0b-b244-dcde8dad3b4c"
      },
      "source": [
        " def check_range(num,start,stop):\n",
        "    if num in range(start,stop+1):\n",
        "        print(num,\"is present in the given range.\")\n",
        "    else:\n",
        "        print(num,\"is not present in the given range.\")\n",
        "check_range(99,1,100)"
      ],
      "execution_count": 11,
      "outputs": [
        {
          "output_type": "stream",
          "text": [
            "99 is present in the given range.\n"
          ],
          "name": "stdout"
        }
      ]
    },
    {
      "cell_type": "markdown",
      "metadata": {
        "id": "qPc4b5gfstCD",
        "colab_type": "text"
      },
      "source": [
        "Question 5"
      ]
    },
    {
      "cell_type": "markdown",
      "metadata": {
        "id": "7fcxTpldsuGM",
        "colab_type": "text"
      },
      "source": [
        " Function that accepts a string and calculates the number of uppercase and lowercase characters."
      ]
    },
    {
      "cell_type": "code",
      "metadata": {
        "id": "KOyHe7mpsx2T",
        "colab_type": "code",
        "colab": {
          "base_uri": "https://localhost:8080/",
          "height": 68
        },
        "outputId": "303045bb-8666-45bf-c2b8-e9dd229e5cc0"
      },
      "source": [
        " def char_case(string):\n",
        "    lowercase,uppercase,special=0,0,0\n",
        "    for char in string:\n",
        "        if char.isupper():\n",
        "            uppercase+=1\n",
        "        elif char.islower():\n",
        "            lowercase+=1\n",
        "        else:\n",
        "            special+=1\n",
        "    print(\"Number of uppercase characters=\",uppercase)\n",
        "    print(\"Number of lowercase characters=\",lowercase)\n",
        "    print(\"Number of special characters=\",special)\n",
        "char_case(\"hi, This is Nikhitha.!\")"
      ],
      "execution_count": 12,
      "outputs": [
        {
          "output_type": "stream",
          "text": [
            "Number of uppercase characters= 2\n",
            "Number of lowercase characters= 14\n",
            "Number of special characters= 6\n"
          ],
          "name": "stdout"
        }
      ]
    },
    {
      "cell_type": "code",
      "metadata": {
        "id": "yf4T1I2jtZCa",
        "colab_type": "code",
        "colab": {
          "base_uri": "https://localhost:8080/",
          "height": 68
        },
        "outputId": "5aed191d-b115-4cbe-89a2-12bd2c2217f8"
      },
      "source": [
        "char_case(\" hey ! Hw r u??\")"
      ],
      "execution_count": 13,
      "outputs": [
        {
          "output_type": "stream",
          "text": [
            "Number of uppercase characters= 1\n",
            "Number of lowercase characters= 6\n",
            "Number of special characters= 8\n"
          ],
          "name": "stdout"
        }
      ]
    }
  ]
}
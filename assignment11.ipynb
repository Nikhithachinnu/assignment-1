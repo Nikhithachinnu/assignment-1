{
  "nbformat": 4,
  "nbformat_minor": 0,
  "metadata": {
    "colab": {
      "name": "Welcome to Colaboratory",
      "provenance": [],
      "collapsed_sections": [],
      "include_colab_link": true
    },
    "kernelspec": {
      "display_name": "Python 3",
      "name": "python3"
    }
  },
  "cells": [
    {
      "cell_type": "markdown",
      "metadata": {
        "id": "view-in-github",
        "colab_type": "text"
      },
      "source": [
        "<a href=\"https://colab.research.google.com/github/Nikhithachinnu/assignment-1/blob/master/assignment11.ipynb\" target=\"_parent\"><img src=\"https://colab.research.google.com/assets/colab-badge.svg\" alt=\"Open In Colab\"/></a>"
      ]
    },
    {
      "cell_type": "markdown",
      "metadata": {
        "id": "D4YjUWjll0Jf",
        "colab_type": "text"
      },
      "source": [
        " Assignment 11"
      ]
    },
    {
      "cell_type": "markdown",
      "metadata": {
        "id": "GG1xnz5Yl1uW",
        "colab_type": "text"
      },
      "source": [
        "Question 1"
      ]
    },
    {
      "cell_type": "code",
      "metadata": {
        "id": "kjpU8lBtl2yc",
        "colab_type": "code",
        "colab": {}
      },
      "source": [
        " f=open(\"file1.txt\",\"w\")\n",
        "f.write(\"\"\"Hi\n",
        "Hello\n",
        "How are you?\n",
        "You look good.Have a good day.\"\"\")\n",
        "f.close()"
      ],
      "execution_count": 1,
      "outputs": []
    },
    {
      "cell_type": "code",
      "metadata": {
        "id": "2lDqP8bqmCAe",
        "colab_type": "code",
        "colab": {
          "base_uri": "https://localhost:8080/",
          "height": 123
        },
        "outputId": "12f32121-552c-4ee0-b6c8-6db08c2e0314"
      },
      "source": [
        " # Python program to read an entire text file.\n",
        " \n",
        "f = open(\"file1.txt\",\"r\")\n",
        "content = f.read()\n",
        "print(\"Content present in the file assignment.txt is\\n\",content)"
      ],
      "execution_count": 2,
      "outputs": [
        {
          "output_type": "stream",
          "text": [
            "Content present in the file assignment.txt is\n",
            " Hi\n",
            "Hello\n",
            "How are you?\n",
            "You look good.Have a good day.\n"
          ],
          "name": "stdout"
        }
      ]
    },
    {
      "cell_type": "markdown",
      "metadata": {
        "id": "_-JuE-ofmMFh",
        "colab_type": "text"
      },
      "source": [
        "Question 2"
      ]
    },
    {
      "cell_type": "code",
      "metadata": {
        "id": "rnMc4eAtmOGz",
        "colab_type": "code",
        "colab": {
          "base_uri": "https://localhost:8080/",
          "height": 157
        },
        "outputId": "cce737bd-9a77-4704-bd8e-ca194e02a9fe"
      },
      "source": [
        " # Python program to read first n lines of a file.\n",
        " \n",
        "f=open(\"file1.txt\",\"r\")\n",
        "n=int(input(\"Enter the number of lines you want to read: \"))\n",
        "print(\"The content present in the first\",n,\"lines present in the file is\\n:\")\n",
        "for i in range(n):\n",
        "    line=f.readline()\n",
        "    print(line)"
      ],
      "execution_count": 3,
      "outputs": [
        {
          "output_type": "stream",
          "text": [
            "Enter the number of lines you want to read: 2\n",
            "The content present in the first 2 lines present in the file is\n",
            ":\n",
            "Hi\n",
            "\n",
            "Hello\n",
            "\n"
          ],
          "name": "stdout"
        }
      ]
    },
    {
      "cell_type": "markdown",
      "metadata": {
        "id": "dvlWney1mazw",
        "colab_type": "text"
      },
      "source": [
        "Question 3"
      ]
    },
    {
      "cell_type": "code",
      "metadata": {
        "id": "YVAI4QoimcD-",
        "colab_type": "code",
        "colab": {
          "base_uri": "https://localhost:8080/",
          "height": 51
        },
        "outputId": "4e7aae26-7d4b-4366-ffc8-c1f95c3f1603"
      },
      "source": [
        " # Python program to append text to a file and display the text.\n",
        " \n",
        "def file_read(fname):\n",
        "        from itertools import islice\n",
        "        with open(fname, \"w\") as myfile:\n",
        "                myfile.write(\"nikhitha\\n\")\n",
        "                myfile.write(\"D/O Raghu\")\n",
        "        txt = open(fname)\n",
        "        print(txt.read())\n",
        "file_read('abc.txt')"
      ],
      "execution_count": 4,
      "outputs": [
        {
          "output_type": "stream",
          "text": [
            "nikhitha\n",
            "D/O Raghu\n"
          ],
          "name": "stdout"
        }
      ]
    },
    {
      "cell_type": "markdown",
      "metadata": {
        "id": "b2yLfiE8mswu",
        "colab_type": "text"
      },
      "source": [
        "Question 4"
      ]
    },
    {
      "cell_type": "code",
      "metadata": {
        "id": "QUwUekTemtxI",
        "colab_type": "code",
        "colab": {
          "base_uri": "https://localhost:8080/",
          "height": 88
        },
        "outputId": "6e459d36-efe9-4794-8cd3-f78a4ec699d0"
      },
      "source": [
        " # Python program to read last n lines of a file.\n",
        " \n",
        "f=open(\"file1.txt\",\"r\")\n",
        "n=int(input(\"Enter the value of n to print the last lines: \"))\n",
        "last=f.readlines() [-n:]\n",
        "for line in last:\n",
        "    print(line, end ='')"
      ],
      "execution_count": 5,
      "outputs": [
        {
          "output_type": "stream",
          "text": [
            "Enter the value of n to print the last lines: 2\n",
            "How are you?\n",
            "You look good.Have a good day."
          ],
          "name": "stdout"
        }
      ]
    },
    {
      "cell_type": "markdown",
      "metadata": {
        "id": "bpV04D_cm_iv",
        "colab_type": "text"
      },
      "source": [
        "Question 5"
      ]
    },
    {
      "cell_type": "code",
      "metadata": {
        "id": "F70hm80mnAqZ",
        "colab_type": "code",
        "colab": {
          "base_uri": "https://localhost:8080/",
          "height": 54
        },
        "outputId": "83ffa0f8-becf-459a-b2e8-729c1996a20c"
      },
      "source": [
        " # Python program to read a file line by line store it into a variable.\n",
        " \n",
        "def file_read(fname):\n",
        "        with open (fname, \"r\") as myfile:\n",
        "                data=myfile.readlines()\n",
        "                print(data)\n",
        "file_read('file1.txt')"
      ],
      "execution_count": 6,
      "outputs": [
        {
          "output_type": "stream",
          "text": [
            "['Hi\\n', 'Hello\\n', 'How are you?\\n', 'You look good.Have a good day.']\n"
          ],
          "name": "stdout"
        }
      ]
    },
    {
      "cell_type": "markdown",
      "metadata": {
        "id": "U7vlJL3mnN1h",
        "colab_type": "text"
      },
      "source": [
        "Question 6"
      ]
    },
    {
      "cell_type": "code",
      "metadata": {
        "id": "Vr4jjMjknPCj",
        "colab_type": "code",
        "colab": {
          "base_uri": "https://localhost:8080/",
          "height": 54
        },
        "outputId": "5b7564ac-1b98-4a23-b7ad-5f9ccd417823"
      },
      "source": [
        " # Python program to read a file line by line and store it into a list.\n",
        " \n",
        "def file_read(fname):\n",
        "        with open(fname) as f:     \n",
        "                content_list = f.readlines()\n",
        "                print(content_list)\n",
        " \n",
        "file_read('file1.txt')"
      ],
      "execution_count": 7,
      "outputs": [
        {
          "output_type": "stream",
          "text": [
            "['Hi\\n', 'Hello\\n', 'How are you?\\n', 'You look good.Have a good day.']\n"
          ],
          "name": "stdout"
        }
      ]
    },
    {
      "cell_type": "markdown",
      "metadata": {
        "id": "SFZ7m169ngM8",
        "colab_type": "text"
      },
      "source": [
        "Question 7"
      ]
    },
    {
      "cell_type": "code",
      "metadata": {
        "id": "fN5Ya4EGnh4A",
        "colab_type": "code",
        "colab": {
          "base_uri": "https://localhost:8080/",
          "height": 34
        },
        "outputId": "01c71852-cae8-4859-8839-2c2e5317c177"
      },
      "source": [
        " # Python program to count the number of lines in a text file.\n",
        " \n",
        "def file_lengthy(fname):\n",
        "        with open(fname) as f:\n",
        "                for i, l in enumerate(f):\n",
        "                        pass\n",
        "        return i + 1\n",
        "print(\"Number of lines in the file: \",file_lengthy(\"file1.txt\"))"
      ],
      "execution_count": 8,
      "outputs": [
        {
          "output_type": "stream",
          "text": [
            "Number of lines in the file:  4\n"
          ],
          "name": "stdout"
        }
      ]
    },
    {
      "cell_type": "markdown",
      "metadata": {
        "id": "LBwnhJfln0v3",
        "colab_type": "text"
      },
      "source": [
        "Question 8"
      ]
    },
    {
      "cell_type": "code",
      "metadata": {
        "id": "2S9qGLD5n2vB",
        "colab_type": "code",
        "colab": {
          "base_uri": "https://localhost:8080/",
          "height": 54
        },
        "outputId": "6efedf01-5d63-4d46-f9c2-cd3e15f6f71b"
      },
      "source": [
        " # Python program to get the file size of a plain file.\n",
        " \n",
        "def file_size(fname):\n",
        "        import os\n",
        "        statinfo = os.stat(fname)\n",
        "        return statinfo.st_size\n",
        " \n",
        "print(\"File size in bytes of a plain file: \",file_size(\"file1.txt\"))"
      ],
      "execution_count": 9,
      "outputs": [
        {
          "output_type": "stream",
          "text": [
            "File size in bytes of a plain file:  52\n"
          ],
          "name": "stdout"
        }
      ]
    },
    {
      "cell_type": "markdown",
      "metadata": {
        "id": "FVdYnDg4oAUc",
        "colab_type": "text"
      },
      "source": [
        "Question 9"
      ]
    },
    {
      "cell_type": "code",
      "metadata": {
        "id": "Q8rHR5JfoBV5",
        "colab_type": "code",
        "colab": {
          "base_uri": "https://localhost:8080/",
          "height": 34
        },
        "outputId": "20c294d3-a2f7-4e3d-ef7a-940a490ae8dd"
      },
      "source": [
        " # Python program to copy the contents of a file to another file.\n",
        " \n",
        "from shutil import copyfile\n",
        "copyfile('file1.txt', 'abc.txt')"
      ],
      "execution_count": 10,
      "outputs": [
        {
          "output_type": "execute_result",
          "data": {
            "application/vnd.google.colaboratory.intrinsic": {
              "type": "string"
            },
            "text/plain": [
              "'abc.txt'"
            ]
          },
          "metadata": {
            "tags": []
          },
          "execution_count": 10
        }
      ]
    }
  ]
}
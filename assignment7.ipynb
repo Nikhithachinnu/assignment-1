{
  "nbformat": 4,
  "nbformat_minor": 0,
  "metadata": {
    "colab": {
      "name": "Welcome to Colaboratory",
      "provenance": [],
      "collapsed_sections": [],
      "include_colab_link": true
    },
    "kernelspec": {
      "display_name": "Python 3",
      "name": "python3"
    }
  },
  "cells": [
    {
      "cell_type": "markdown",
      "metadata": {
        "id": "view-in-github",
        "colab_type": "text"
      },
      "source": [
        "<a href=\"https://colab.research.google.com/github/Nikhithachinnu/assignment-1/blob/master/assignment7.ipynb\" target=\"_parent\"><img src=\"https://colab.research.google.com/assets/colab-badge.svg\" alt=\"Open In Colab\"/></a>"
      ]
    },
    {
      "cell_type": "markdown",
      "metadata": {
        "id": "SeDiar6oRRwA",
        "colab_type": "text"
      },
      "source": [
        "Assignment 7"
      ]
    },
    {
      "cell_type": "markdown",
      "metadata": {
        "id": "oRRKAOmYRTEp",
        "colab_type": "text"
      },
      "source": [
        "Question 1"
      ]
    },
    {
      "cell_type": "markdown",
      "metadata": {
        "id": "oIGooxxoRfmj",
        "colab_type": "text"
      },
      "source": [
        " Program to find the square root"
      ]
    },
    {
      "cell_type": "code",
      "metadata": {
        "id": "IcY-A9aJRUwW",
        "colab_type": "code",
        "colab": {
          "base_uri": "https://localhost:8080/",
          "height": 34
        },
        "outputId": "ce031ec4-cb5e-4396-d62d-7fa7418a3091"
      },
      "source": [
        " import math\n",
        "def sq_root(num):\n",
        "    sq=math.sqrt(num)\n",
        "    print(\"The square root of\",num,\"is:\",sq)\n",
        "sq_root(64)"
      ],
      "execution_count": 1,
      "outputs": [
        {
          "output_type": "stream",
          "text": [
            "The square root of 64 is: 8.0\n"
          ],
          "name": "stdout"
        }
      ]
    },
    {
      "cell_type": "markdown",
      "metadata": {
        "id": "7Av_jf7TRySy",
        "colab_type": "text"
      },
      "source": [
        "Question 2"
      ]
    },
    {
      "cell_type": "markdown",
      "metadata": {
        "id": "doM5RWnzRzqg",
        "colab_type": "text"
      },
      "source": [
        " Program to check if a number is positive, negative or zero"
      ]
    },
    {
      "cell_type": "code",
      "metadata": {
        "id": "Ugm6ZUPtSDSy",
        "colab_type": "code",
        "colab": {
          "base_uri": "https://localhost:8080/",
          "height": 34
        },
        "outputId": "45b73a63-59e5-451f-861b-6acbdf2c4234"
      },
      "source": [
        " def check_num(num):\n",
        "    if num>0:\n",
        "        print(num,\"is positive.\")\n",
        "    elif num<0:\n",
        "        print(num,\"is negative.\")\n",
        "    else:\n",
        "        print(num,\"is zero.\")\n",
        "check_num(8)"
      ],
      "execution_count": 2,
      "outputs": [
        {
          "output_type": "stream",
          "text": [
            "8 is positive.\n"
          ],
          "name": "stdout"
        }
      ]
    },
    {
      "cell_type": "markdown",
      "metadata": {
        "id": "BeEBbLoxSitp",
        "colab_type": "text"
      },
      "source": [
        "Question 3"
      ]
    },
    {
      "cell_type": "markdown",
      "metadata": {
        "id": "djZ9Te7uSlkz",
        "colab_type": "text"
      },
      "source": [
        " Program to checck if the given year is a leap year or not"
      ]
    },
    {
      "cell_type": "code",
      "metadata": {
        "id": "v449hrx9SsJh",
        "colab_type": "code",
        "colab": {
          "base_uri": "https://localhost:8080/",
          "height": 34
        },
        "outputId": "1d04c735-4494-40e9-b054-229f266bcd14"
      },
      "source": [
        " def leap_year(year):\n",
        "    if year%4==0:\n",
        "        if year%100==0:\n",
        "            if year%400==0:\n",
        "                print(year,\"is a leap year.\")\n",
        "            else:\n",
        "                print(year,\"is not a leap year.\")\n",
        "        else:\n",
        "            print(year,\"is a leap year.\")\n",
        "    else:\n",
        "        print(year,\"is not a leap year.\")\n",
        "leap_year(2020)"
      ],
      "execution_count": 3,
      "outputs": [
        {
          "output_type": "stream",
          "text": [
            "2020 is a leap year.\n"
          ],
          "name": "stdout"
        }
      ]
    },
    {
      "cell_type": "markdown",
      "metadata": {
        "id": "3oES60coSyyk",
        "colab_type": "text"
      },
      "source": [
        "Question 4"
      ]
    },
    {
      "cell_type": "markdown",
      "metadata": {
        "id": "4glW4Ol5S0Dk",
        "colab_type": "text"
      },
      "source": [
        " Program to print the Fibonacci series."
      ]
    },
    {
      "cell_type": "code",
      "metadata": {
        "id": "rIvt7OlZS3U7",
        "colab_type": "code",
        "colab": {
          "base_uri": "https://localhost:8080/",
          "height": 71
        },
        "outputId": "74759064-2d70-40ea-ecfc-59ee8db46e44"
      },
      "source": [
        " def fibonacci(num):\n",
        "    first_term, second_term, count=0, 1, 0\n",
        "    print(\"Fibonacci Series upto\",num,\"terms is given by: \")\n",
        "    while count<num:\n",
        "        print(first_term, end=\" \")\n",
        "        next_term=first_term+second_term\n",
        "        first_term=second_term\n",
        "        second_term=next_term\n",
        "        count+=1\n",
        "fibonacci(10)"
      ],
      "execution_count": 4,
      "outputs": [
        {
          "output_type": "stream",
          "text": [
            "Fibonacci Series upto 10 terms is given by: \n",
            "0 1 1 2 3 5 8 13 21 34 "
          ],
          "name": "stdout"
        }
      ]
    },
    {
      "cell_type": "markdown",
      "metadata": {
        "id": "YUgXTV3IS9D5",
        "colab_type": "text"
      },
      "source": [
        "Question 5"
      ]
    },
    {
      "cell_type": "markdown",
      "metadata": {
        "id": "bBGl9PpgS9-G",
        "colab_type": "text"
      },
      "source": [
        " Check if a number is Armstrong number or not."
      ]
    },
    {
      "cell_type": "code",
      "metadata": {
        "id": "Kxrjk7fbTFcm",
        "colab_type": "code",
        "colab": {
          "base_uri": "https://localhost:8080/",
          "height": 34
        },
        "outputId": "d525c443-fff5-4c07-a75a-fedaf449c167"
      },
      "source": [
        " def armstrong(num):\n",
        "    sum=0\n",
        "    temp=num\n",
        "    while temp!=0:\n",
        "        last_digit= temp%10\n",
        "        sum=sum+pow(last_digit,len(str(num)))\n",
        "        temp=temp//10\n",
        "    if num==sum:\n",
        "        print(num,\"is an Armstrong Number.\")\n",
        "    else:\n",
        "        print(num,\"is not an Armstrong Number.\")\n",
        "armstrong(65378)"
      ],
      "execution_count": 7,
      "outputs": [
        {
          "output_type": "stream",
          "text": [
            "65378 is not an Armstrong Number.\n"
          ],
          "name": "stdout"
        }
      ]
    },
    {
      "cell_type": "markdown",
      "metadata": {
        "id": "JBcHp07DTSCI",
        "colab_type": "text"
      },
      "source": [
        "Question 6"
      ]
    },
    {
      "cell_type": "markdown",
      "metadata": {
        "id": "csAoR4ZmTTD9",
        "colab_type": "text"
      },
      "source": [
        " Print all Armstrong Numbers in an interval."
      ]
    },
    {
      "cell_type": "code",
      "metadata": {
        "id": "ql7D0gdMTX7k",
        "colab_type": "code",
        "colab": {
          "base_uri": "https://localhost:8080/",
          "height": 120
        },
        "outputId": "8853ca15-da4f-4875-94ad-b44a9a340644"
      },
      "source": [
        " start=int(input(\"Enter the starting index: \"))\n",
        "end=int(input(\"Enter the ending index: \"))\n",
        "if end>=1000:\n",
        "    print(\"Invalid ending index.\")\n",
        "else:\n",
        "    for num in range(start,end+1):\n",
        "        sum=0\n",
        "        temp=num\n",
        "        while temp>0:\n",
        "            rem=temp%10\n",
        "            sum+=rem**3\n",
        "            temp=temp//10\n",
        "        if num==sum:\n",
        "            print(num)"
      ],
      "execution_count": 6,
      "outputs": [
        {
          "output_type": "stream",
          "text": [
            "Enter the starting index: 10\n",
            "Enter the ending index: 999\n",
            "153\n",
            "370\n",
            "371\n",
            "407\n"
          ],
          "name": "stdout"
        }
      ]
    }
  ]
}
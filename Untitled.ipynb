{
  "nbformat": 4,
  "nbformat_minor": 0,
  "metadata": {
    "colab": {
      "name": "Untitled",
      "provenance": [],
      "authorship_tag": "ABX9TyPeWSB1fR+SD2X2Nh8fqwht",
      "include_colab_link": true
    },
    "kernelspec": {
      "name": "python3",
      "display_name": "Python 3"
    }
  },
  "cells": [
    {
      "cell_type": "markdown",
      "metadata": {
        "id": "view-in-github",
        "colab_type": "text"
      },
      "source": [
        "<a href=\"https://colab.research.google.com/github/Nikhithachinnu/assignment-1/blob/master/Untitled.ipynb\" target=\"_parent\"><img src=\"https://colab.research.google.com/assets/colab-badge.svg\" alt=\"Open In Colab\"/></a>"
      ]
    },
    {
      "cell_type": "code",
      "metadata": {
        "id": "DVMZ0rFl6zpS",
        "colab_type": "code",
        "colab": {
          "base_uri": "https://localhost:8080/",
          "height": 68
        },
        "outputId": "0ef62fb6-1cea-4dba-dc48-c60ce520a66d"
      },
      "source": [
        "a=int(input('enter value of a:'))\n",
        "b=int(input('enter value of b:'))\n",
        "print('sum of a and b is :',a+b)"
      ],
      "execution_count": null,
      "outputs": [
        {
          "output_type": "stream",
          "text": [
            "enter value of a:20\n",
            "enter value of b:10\n",
            "sum of a and b is : 30\n"
          ],
          "name": "stdout"
        }
      ]
    },
    {
      "cell_type": "code",
      "metadata": {
        "id": "srpeHfu078Fz",
        "colab_type": "code",
        "colab": {
          "base_uri": "https://localhost:8080/",
          "height": 68
        },
        "outputId": "5452ba88-095e-423f-c875-6001ff1603a0"
      },
      "source": [
        "a=int(input('enter value of a:'))\n",
        "b=int(input('enter value of b:'))\n",
        "print('difference of a and b is:',a-b)"
      ],
      "execution_count": null,
      "outputs": [
        {
          "output_type": "stream",
          "text": [
            "enter value of a:20\n",
            "enter value of b:10\n",
            "difference of a and b is: 10\n"
          ],
          "name": "stdout"
        }
      ]
    },
    {
      "cell_type": "code",
      "metadata": {
        "id": "7DVIDR1p-6oP",
        "colab_type": "code",
        "colab": {
          "base_uri": "https://localhost:8080/",
          "height": 68
        },
        "outputId": "378174a1-ad54-46e8-f2d3-edba300eb6f6"
      },
      "source": [
        "a=int(input('enter value of a:'))\n",
        "b=int(input('enter value of b:'))\n",
        "print('product of a and b: ',a*b)"
      ],
      "execution_count": null,
      "outputs": [
        {
          "output_type": "stream",
          "text": [
            "enter value of a:20\n",
            "enter value of b:10\n",
            "product of a and b:  200\n"
          ],
          "name": "stdout"
        }
      ]
    },
    {
      "cell_type": "code",
      "metadata": {
        "id": "uFTP8BUiBeEh",
        "colab_type": "code",
        "colab": {
          "base_uri": "https://localhost:8080/",
          "height": 68
        },
        "outputId": "8003d647-88d9-43d7-eeed-61a83141497d"
      },
      "source": [
        "a=int(input('enter value of a:'))\n",
        "b=int(input('enter value of b:'))\n",
        "print('coeficient is:',a/b)"
      ],
      "execution_count": null,
      "outputs": [
        {
          "output_type": "stream",
          "text": [
            "enter value of a:20\n",
            "enter value of b:10\n",
            "coeficient is: 2.0\n"
          ],
          "name": "stdout"
        }
      ]
    },
    {
      "cell_type": "code",
      "metadata": {
        "id": "apA95-Z6CTpb",
        "colab_type": "code",
        "colab": {
          "base_uri": "https://localhost:8080/",
          "height": 68
        },
        "outputId": "a600b8b1-42bb-4f5b-9f63-d9741fae1eef"
      },
      "source": [
        "a=int(input('enter value of a:'))\n",
        "b=int(input('enter value of b:'))\n",
        "print('reminder is:',a%b)"
      ],
      "execution_count": null,
      "outputs": [
        {
          "output_type": "stream",
          "text": [
            "enter value of a:7\n",
            "enter value of b:2\n",
            "reminder is: 1\n"
          ],
          "name": "stdout"
        }
      ]
    },
    {
      "cell_type": "code",
      "metadata": {
        "id": "XuA2klHBDMiv",
        "colab_type": "code",
        "colab": {
          "base_uri": "https://localhost:8080/",
          "height": 68
        },
        "outputId": "db9c03c4-2a55-4ecb-fa47-e4ade38870b0"
      },
      "source": [
        "a=int(input('enter value of a:'))\n",
        "b=int(input('enter value of b:'))\n",
        "print('a power b is:',a**b)"
      ],
      "execution_count": null,
      "outputs": [
        {
          "output_type": "stream",
          "text": [
            "enter value of a:4\n",
            "enter value of b:2\n",
            "a power b is: 16\n"
          ],
          "name": "stdout"
        }
      ]
    },
    {
      "cell_type": "code",
      "metadata": {
        "id": "MyosaEcAF5Sk",
        "colab_type": "code",
        "colab": {
          "base_uri": "https://localhost:8080/",
          "height": 68
        },
        "outputId": "1a11a760-b488-4077-c751-4938bbe55689"
      },
      "source": [
        "a=int(input('enter value of a:'))\n",
        "b=int(input('enter value of b:'))\n",
        "print('floor division is:',a//b)"
      ],
      "execution_count": null,
      "outputs": [
        {
          "output_type": "stream",
          "text": [
            "enter value of a:10\n",
            "enter value of b:3\n",
            "floor division is: 3\n"
          ],
          "name": "stdout"
        }
      ]
    },
    {
      "cell_type": "markdown",
      "metadata": {
        "id": "sSeOn9yLG_SW",
        "colab_type": "text"
      },
      "source": [
        "Question 2"
      ]
    },
    {
      "cell_type": "markdown",
      "metadata": {
        "id": "ihj4RPTxHVah",
        "colab_type": "text"
      },
      "source": [
        "Write a python program to calculate simple intrest"
      ]
    },
    {
      "cell_type": "code",
      "metadata": {
        "id": "Ko8OLyOQHbQw",
        "colab_type": "code",
        "colab": {
          "base_uri": "https://localhost:8080/",
          "height": 85
        },
        "outputId": "87c008f3-9226-43a8-d207-462bfd9acfb9"
      },
      "source": [
        "P=int(input('enter value of p:'))\n",
        "T=int(input('enter value of T:'))\n",
        "R=int(input('enter value of R:'))\n",
        "print('simple intrest is:',((P*T*R)/100))"
      ],
      "execution_count": null,
      "outputs": [
        {
          "output_type": "stream",
          "text": [
            "enter value of p:10\n",
            "enter value of T:20\n",
            "enter value of R:30\n",
            "simple intrest is: 60.0\n"
          ],
          "name": "stdout"
        }
      ]
    },
    {
      "cell_type": "markdown",
      "metadata": {
        "id": "09nf3hZ_KSmd",
        "colab_type": "text"
      },
      "source": [
        "Question 3"
      ]
    },
    {
      "cell_type": "markdown",
      "metadata": {
        "id": "_epXqnjtKUiO",
        "colab_type": "text"
      },
      "source": [
        "Write a program to calculate area of circle"
      ]
    },
    {
      "cell_type": "code",
      "metadata": {
        "id": "3Nfew7yuKc-U",
        "colab_type": "code",
        "colab": {
          "base_uri": "https://localhost:8080/",
          "height": 51
        },
        "outputId": "e5bfcbaf-387a-46b0-e573-5357a0aa4bf0"
      },
      "source": [
        "r=int(input('enter value of radius:'))\n",
        "print('Area of circle is:',(3.14*r*r))"
      ],
      "execution_count": null,
      "outputs": [
        {
          "output_type": "stream",
          "text": [
            "enter value of radius:10\n",
            "Area of circle is: 314.0\n"
          ],
          "name": "stdout"
        }
      ]
    },
    {
      "cell_type": "markdown",
      "metadata": {
        "id": "xfXZEx0bLptk",
        "colab_type": "text"
      },
      "source": [
        "Question 4"
      ]
    },
    {
      "cell_type": "markdown",
      "metadata": {
        "id": "o9heoKpbLrO1",
        "colab_type": "text"
      },
      "source": [
        "Write a program to calculate area of triangle"
      ]
    },
    {
      "cell_type": "code",
      "metadata": {
        "id": "iGSjH3WOLzIU",
        "colab_type": "code",
        "colab": {
          "base_uri": "https://localhost:8080/",
          "height": 34
        },
        "outputId": "563002a6-6786-4919-eb6e-c65750e564d3"
      },
      "source": [
        " \n",
        "S1=2\n",
        "S2=3\n",
        "S3=2\n",
        "print('area of triangle:',(S1*S2*S3))"
      ],
      "execution_count": null,
      "outputs": [
        {
          "output_type": "stream",
          "text": [
            "area of triangle: 12\n"
          ],
          "name": "stdout"
        }
      ]
    },
    {
      "cell_type": "markdown",
      "metadata": {
        "id": "gE4wKjd6OeKw",
        "colab_type": "text"
      },
      "source": [
        "Question 5"
      ]
    },
    {
      "cell_type": "markdown",
      "metadata": {
        "id": "0-G22vxTOhAb",
        "colab_type": "text"
      },
      "source": [
        "Write a python program to convert temperature in celsius to fahrenheit"
      ]
    },
    {
      "cell_type": "code",
      "metadata": {
        "id": "p-HlPHBdOw7n",
        "colab_type": "code",
        "colab": {
          "base_uri": "https://localhost:8080/",
          "height": 54
        },
        "outputId": "8dbd6ea6-259e-46aa-df95-d6448e4b9a22"
      },
      "source": [
        "c=37\n",
        "print('temperature in Fahrenheit is:',(1.8*c+32))"
      ],
      "execution_count": null,
      "outputs": [
        {
          "output_type": "stream",
          "text": [
            "temperature in Fahrenheit is: 98.60000000000001\n"
          ],
          "name": "stdout"
        }
      ]
    },
    {
      "cell_type": "markdown",
      "metadata": {
        "id": "-NWLIntbSjoE",
        "colab_type": "text"
      },
      "source": [
        "Question 6"
      ]
    },
    {
      "cell_type": "markdown",
      "metadata": {
        "id": "5Rfioh3uSlM7",
        "colab_type": "text"
      },
      "source": [
        " Write a python program to calculate area of rectangle"
      ]
    },
    {
      "cell_type": "code",
      "metadata": {
        "id": "_fzxH77mS4f6",
        "colab_type": "code",
        "colab": {
          "base_uri": "https://localhost:8080/",
          "height": 34
        },
        "outputId": "03a8ded4-8673-40c0-a08f-7cf40519b33d"
      },
      "source": [
        "l=5\n",
        "b=5\n",
        "print('area of rectangle:',(l*b))"
      ],
      "execution_count": null,
      "outputs": [
        {
          "output_type": "stream",
          "text": [
            "area of rectangle: 25\n"
          ],
          "name": "stdout"
        }
      ]
    },
    {
      "cell_type": "markdown",
      "metadata": {
        "id": "Mf-nwBT5VWtK",
        "colab_type": "text"
      },
      "source": [
        "Question 7"
      ]
    },
    {
      "cell_type": "markdown",
      "metadata": {
        "id": "f7DOxJd3VYJ-",
        "colab_type": "text"
      },
      "source": [
        "Write a python program to calculate perimeter of square"
      ]
    },
    {
      "cell_type": "code",
      "metadata": {
        "id": "HziTFZMAVgNt",
        "colab_type": "code",
        "colab": {
          "base_uri": "https://localhost:8080/",
          "height": 34
        },
        "outputId": "44a44894-5698-4a40-e2ea-09e331205470"
      },
      "source": [
        "Side=2\n",
        "print('perimeter of square:',(4*Side))"
      ],
      "execution_count": null,
      "outputs": [
        {
          "output_type": "stream",
          "text": [
            "perimeter of square: 8\n"
          ],
          "name": "stdout"
        }
      ]
    },
    {
      "cell_type": "markdown",
      "metadata": {
        "id": "UTfgZt-4W3uQ",
        "colab_type": "text"
      },
      "source": [
        "Question 8"
      ]
    },
    {
      "cell_type": "markdown",
      "metadata": {
        "id": "XvjyhJheW5Fq",
        "colab_type": "text"
      },
      "source": [
        "Write a python program to calculate circumference of circle"
      ]
    },
    {
      "cell_type": "code",
      "metadata": {
        "id": "6nXxXv8TXIYI",
        "colab_type": "code",
        "colab": {
          "base_uri": "https://localhost:8080/",
          "height": 51
        },
        "outputId": "05cbf78b-2397-4d85-8d17-7d26896ab4f8"
      },
      "source": [
        "r=int(input('value of radius:'))\n",
        "print('circumference of circle:',2*3.14*r)"
      ],
      "execution_count": null,
      "outputs": [
        {
          "output_type": "stream",
          "text": [
            "value of radius:2\n",
            "circumference of circle: 12.56\n"
          ],
          "name": "stdout"
        }
      ]
    },
    {
      "cell_type": "markdown",
      "metadata": {
        "id": "G7GbjbDiZPH2",
        "colab_type": "text"
      },
      "source": [
        "Question 9"
      ]
    },
    {
      "cell_type": "markdown",
      "metadata": {
        "id": "Mpzn_oYrZR9D",
        "colab_type": "text"
      },
      "source": [
        "Write a python program to swap two numbers"
      ]
    },
    {
      "cell_type": "code",
      "metadata": {
        "id": "J-9Gaqt4ZdOh",
        "colab_type": "code",
        "colab": {
          "base_uri": "https://localhost:8080/",
          "height": 51
        },
        "outputId": "abb67f36-cbc5-4a89-d094-157dff8fcc43"
      },
      "source": [
        "a=5\n",
        "b=10\n",
        "a=a+b\n",
        "b=a-b\n",
        "a=a-b\n",
        "print('value of a after swapping:',a)\n",
        "print('value of b after swapping:',b)"
      ],
      "execution_count": null,
      "outputs": [
        {
          "output_type": "stream",
          "text": [
            "value of a after swapping: 10\n",
            "value of b after swapping: 5\n"
          ],
          "name": "stdout"
        }
      ]
    }
  ]
}